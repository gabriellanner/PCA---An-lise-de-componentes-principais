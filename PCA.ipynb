{
 "cells": [
  {
   "cell_type": "code",
   "execution_count": 2,
   "metadata": {},
   "outputs": [],
   "source": [
    "# Imports\n",
    "import numpy as np\n",
    "import pandas as pd"
   ]
  },
  {
   "cell_type": "code",
   "execution_count": 3,
   "metadata": {},
   "outputs": [],
   "source": [
    "# Importando o dataset\n",
    "df = pd.read_csv(\"dataset.csv\", index_col=0)"
   ]
  },
  {
   "cell_type": "code",
   "execution_count": 4,
   "metadata": {},
   "outputs": [
    {
     "data": {
      "text/plain": [
       "(40, 49)"
      ]
     },
     "execution_count": 4,
     "metadata": {},
     "output_type": "execute_result"
    }
   ],
   "source": [
    "df.shape"
   ]
  },
  {
   "cell_type": "code",
   "execution_count": 5,
   "metadata": {},
   "outputs": [
    {
     "data": {
      "text/html": [
       "<div>\n",
       "<style scoped>\n",
       "    .dataframe tbody tr th:only-of-type {\n",
       "        vertical-align: middle;\n",
       "    }\n",
       "\n",
       "    .dataframe tbody tr th {\n",
       "        vertical-align: top;\n",
       "    }\n",
       "\n",
       "    .dataframe thead th {\n",
       "        text-align: right;\n",
       "    }\n",
       "</style>\n",
       "<table border=\"1\" class=\"dataframe\">\n",
       "  <thead>\n",
       "    <tr style=\"text-align: right;\">\n",
       "      <th></th>\n",
       "      <th>186</th>\n",
       "      <th>295</th>\n",
       "      <th>321</th>\n",
       "      <th>337</th>\n",
       "      <th>464</th>\n",
       "      <th>469</th>\n",
       "      <th>502</th>\n",
       "      <th>506</th>\n",
       "      <th>563</th>\n",
       "      <th>931</th>\n",
       "      <th>...</th>\n",
       "      <th>1401</th>\n",
       "      <th>1402</th>\n",
       "      <th>1414</th>\n",
       "      <th>1422</th>\n",
       "      <th>1524</th>\n",
       "      <th>1551</th>\n",
       "      <th>1553</th>\n",
       "      <th>1559</th>\n",
       "      <th>1561</th>\n",
       "      <th>1568</th>\n",
       "    </tr>\n",
       "  </thead>\n",
       "  <tbody>\n",
       "    <tr>\n",
       "      <th>NSCLC_A549_1</th>\n",
       "      <td>171210.5829</td>\n",
       "      <td>1246686.524</td>\n",
       "      <td>527193.4870</td>\n",
       "      <td>411155.8781</td>\n",
       "      <td>59929.70461</td>\n",
       "      <td>49255.07973</td>\n",
       "      <td>171273.1364</td>\n",
       "      <td>159183.1286</td>\n",
       "      <td>663694.9741</td>\n",
       "      <td>35070.49713</td>\n",
       "      <td>...</td>\n",
       "      <td>95049.95991</td>\n",
       "      <td>1.719464e+06</td>\n",
       "      <td>645473.1920</td>\n",
       "      <td>89954.00002</td>\n",
       "      <td>52983.82193</td>\n",
       "      <td>1.672322e+06</td>\n",
       "      <td>6.867305e+05</td>\n",
       "      <td>259889.4715</td>\n",
       "      <td>1.563879e+06</td>\n",
       "      <td>189971.51110</td>\n",
       "    </tr>\n",
       "    <tr>\n",
       "      <th>NSCLC_H1703_2</th>\n",
       "      <td>204751.3591</td>\n",
       "      <td>1338013.461</td>\n",
       "      <td>571379.0841</td>\n",
       "      <td>486137.0920</td>\n",
       "      <td>89261.66256</td>\n",
       "      <td>72052.72202</td>\n",
       "      <td>187464.2389</td>\n",
       "      <td>180000.6140</td>\n",
       "      <td>443440.3745</td>\n",
       "      <td>89938.26439</td>\n",
       "      <td>...</td>\n",
       "      <td>131002.12740</td>\n",
       "      <td>8.290090e+05</td>\n",
       "      <td>293504.7109</td>\n",
       "      <td>42264.73772</td>\n",
       "      <td>97472.88420</td>\n",
       "      <td>1.608167e+06</td>\n",
       "      <td>9.408252e+05</td>\n",
       "      <td>363398.5823</td>\n",
       "      <td>3.043114e+05</td>\n",
       "      <td>35762.79339</td>\n",
       "    </tr>\n",
       "    <tr>\n",
       "      <th>NSCLC_H1703_1</th>\n",
       "      <td>203558.4952</td>\n",
       "      <td>1040438.105</td>\n",
       "      <td>498460.6875</td>\n",
       "      <td>411052.8868</td>\n",
       "      <td>96002.36973</td>\n",
       "      <td>0.00000</td>\n",
       "      <td>193894.4078</td>\n",
       "      <td>179518.9387</td>\n",
       "      <td>736672.9068</td>\n",
       "      <td>107041.34120</td>\n",
       "      <td>...</td>\n",
       "      <td>108827.84800</td>\n",
       "      <td>8.541730e+05</td>\n",
       "      <td>313811.6234</td>\n",
       "      <td>51125.12753</td>\n",
       "      <td>95633.56928</td>\n",
       "      <td>1.931491e+06</td>\n",
       "      <td>1.086556e+06</td>\n",
       "      <td>417606.0810</td>\n",
       "      <td>4.365568e+05</td>\n",
       "      <td>53865.65208</td>\n",
       "    </tr>\n",
       "    <tr>\n",
       "      <th>NSCLC_A549_2</th>\n",
       "      <td>245859.2006</td>\n",
       "      <td>1371135.588</td>\n",
       "      <td>153050.9373</td>\n",
       "      <td>495539.7034</td>\n",
       "      <td>81436.65785</td>\n",
       "      <td>85158.56741</td>\n",
       "      <td>0.0000</td>\n",
       "      <td>186757.1440</td>\n",
       "      <td>809830.2341</td>\n",
       "      <td>43565.82607</td>\n",
       "      <td>...</td>\n",
       "      <td>106003.59820</td>\n",
       "      <td>2.037000e+06</td>\n",
       "      <td>762600.1361</td>\n",
       "      <td>116878.29910</td>\n",
       "      <td>58497.52991</td>\n",
       "      <td>2.077164e+06</td>\n",
       "      <td>8.461167e+05</td>\n",
       "      <td>328548.1739</td>\n",
       "      <td>1.824857e+06</td>\n",
       "      <td>243842.05260</td>\n",
       "    </tr>\n",
       "    <tr>\n",
       "      <th>NSCLC_H1437_1</th>\n",
       "      <td>214448.1780</td>\n",
       "      <td>1107105.986</td>\n",
       "      <td>524333.5670</td>\n",
       "      <td>484994.8797</td>\n",
       "      <td>92368.82235</td>\n",
       "      <td>69868.54980</td>\n",
       "      <td>181168.8533</td>\n",
       "      <td>0.0000</td>\n",
       "      <td>635990.2172</td>\n",
       "      <td>51087.42828</td>\n",
       "      <td>...</td>\n",
       "      <td>83218.09256</td>\n",
       "      <td>1.269266e+06</td>\n",
       "      <td>459612.8875</td>\n",
       "      <td>64837.50435</td>\n",
       "      <td>0.00000</td>\n",
       "      <td>9.434720e+05</td>\n",
       "      <td>4.022300e+05</td>\n",
       "      <td>153070.9443</td>\n",
       "      <td>3.745915e+05</td>\n",
       "      <td>44104.41364</td>\n",
       "    </tr>\n",
       "  </tbody>\n",
       "</table>\n",
       "<p>5 rows × 49 columns</p>\n",
       "</div>"
      ],
      "text/plain": [
       "                       186          295          321          337  \\\n",
       "NSCLC_A549_1   171210.5829  1246686.524  527193.4870  411155.8781   \n",
       "NSCLC_H1703_2  204751.3591  1338013.461  571379.0841  486137.0920   \n",
       "NSCLC_H1703_1  203558.4952  1040438.105  498460.6875  411052.8868   \n",
       "NSCLC_A549_2   245859.2006  1371135.588  153050.9373  495539.7034   \n",
       "NSCLC_H1437_1  214448.1780  1107105.986  524333.5670  484994.8797   \n",
       "\n",
       "                       464          469          502          506  \\\n",
       "NSCLC_A549_1   59929.70461  49255.07973  171273.1364  159183.1286   \n",
       "NSCLC_H1703_2  89261.66256  72052.72202  187464.2389  180000.6140   \n",
       "NSCLC_H1703_1  96002.36973      0.00000  193894.4078  179518.9387   \n",
       "NSCLC_A549_2   81436.65785  85158.56741       0.0000  186757.1440   \n",
       "NSCLC_H1437_1  92368.82235  69868.54980  181168.8533       0.0000   \n",
       "\n",
       "                       563           931  ...          1401          1402  \\\n",
       "NSCLC_A549_1   663694.9741   35070.49713  ...   95049.95991  1.719464e+06   \n",
       "NSCLC_H1703_2  443440.3745   89938.26439  ...  131002.12740  8.290090e+05   \n",
       "NSCLC_H1703_1  736672.9068  107041.34120  ...  108827.84800  8.541730e+05   \n",
       "NSCLC_A549_2   809830.2341   43565.82607  ...  106003.59820  2.037000e+06   \n",
       "NSCLC_H1437_1  635990.2172   51087.42828  ...   83218.09256  1.269266e+06   \n",
       "\n",
       "                      1414          1422         1524          1551  \\\n",
       "NSCLC_A549_1   645473.1920   89954.00002  52983.82193  1.672322e+06   \n",
       "NSCLC_H1703_2  293504.7109   42264.73772  97472.88420  1.608167e+06   \n",
       "NSCLC_H1703_1  313811.6234   51125.12753  95633.56928  1.931491e+06   \n",
       "NSCLC_A549_2   762600.1361  116878.29910  58497.52991  2.077164e+06   \n",
       "NSCLC_H1437_1  459612.8875   64837.50435      0.00000  9.434720e+05   \n",
       "\n",
       "                       1553         1559          1561          1568  \n",
       "NSCLC_A549_1   6.867305e+05  259889.4715  1.563879e+06  189971.51110  \n",
       "NSCLC_H1703_2  9.408252e+05  363398.5823  3.043114e+05   35762.79339  \n",
       "NSCLC_H1703_1  1.086556e+06  417606.0810  4.365568e+05   53865.65208  \n",
       "NSCLC_A549_2   8.461167e+05  328548.1739  1.824857e+06  243842.05260  \n",
       "NSCLC_H1437_1  4.022300e+05  153070.9443  3.745915e+05   44104.41364  \n",
       "\n",
       "[5 rows x 49 columns]"
      ]
     },
     "execution_count": 5,
     "metadata": {},
     "output_type": "execute_result"
    }
   ],
   "source": [
    "df.head()"
   ]
  },
  {
   "cell_type": "code",
   "execution_count": 6,
   "metadata": {},
   "outputs": [
    {
     "data": {
      "text/plain": [
       "array([[ 171210.5829 , 1246686.524  ,  527193.487  , ...,  259889.4715 ,\n",
       "        1563879.456  ,  189971.5111 ],\n",
       "       [ 204751.3591 , 1338013.461  ,  571379.0841 , ...,  363398.5823 ,\n",
       "         304311.3998 ,   35762.79339],\n",
       "       [ 203558.4952 , 1040438.105  ,  498460.6875 , ...,  417606.081  ,\n",
       "         436556.8065 ,   53865.65208],\n",
       "       ...,\n",
       "       [ 204221.0677 , 1278411.147  ,  566328.7108 , ...,  148904.9146 ,\n",
       "         708831.1396 ,  121367.7799 ],\n",
       "       [ 175149.2572 , 1101994.558  ,  175843.386  , ...,  144382.0813 ,\n",
       "          77809.90877,  287232.319  ],\n",
       "       [ 225370.32   , 1407596.388  ,       0.     , ...,  115385.9564 ,\n",
       "          61827.40414,  176777.0753 ]])"
      ]
     },
     "execution_count": 6,
     "metadata": {},
     "output_type": "execute_result"
    }
   ],
   "source": [
    "df_matriz = df.to_numpy()\n",
    "df_matriz"
   ]
  },
  {
   "cell_type": "code",
   "execution_count": 7,
   "metadata": {},
   "outputs": [
    {
     "data": {
      "text/plain": [
       "(40, 49)"
      ]
     },
     "execution_count": 7,
     "metadata": {},
     "output_type": "execute_result"
    }
   ],
   "source": [
    "df_matriz.shape"
   ]
  },
  {
   "cell_type": "code",
   "execution_count": 10,
   "metadata": {},
   "outputs": [
    {
     "data": {
      "text/plain": [
       "array([ 185011.885065  , 1154726.1125125 ,  476459.903455  ,\n",
       "        449787.4246325 ,   86856.29951125,   72130.97627625,\n",
       "        176979.6677525 ,  166611.20674   ,  449567.59509   ,\n",
       "         52692.907637  ,  226424.793347  ,   62663.96099525,\n",
       "        138339.773075  ,  129471.267691  , 1019795.859975  ,\n",
       "        721338.803799  ,  227841.588217  ,  616851.856213  ,\n",
       "        136489.74543125,  192610.57603225, 1627980.86294   ,\n",
       "        587584.20022   ,  364438.0159675 ,  230686.86434   ,\n",
       "        308633.94730675,  207669.33142927,  883422.149645  ,\n",
       "        308494.23104575, 1898308.83055   ,  686983.593885  ,\n",
       "         92755.30828475,  105912.44276475,  117400.5695485 ,\n",
       "        668102.95982125,   90620.6922405 ,  465681.176975  ,\n",
       "        168326.3644965 , 1312030.034055  ,  485060.6826275 ,\n",
       "         69987.10878275, 1845806.137775  ,  733104.9163575 ,\n",
       "        100761.58881   ,   88273.41699825,  606441.2117655 ,\n",
       "        374514.221095  ,  140542.7518785 ,  478166.55993875,\n",
       "         97350.59901   ])"
      ]
     },
     "execution_count": 10,
     "metadata": {},
     "output_type": "execute_result"
    }
   ],
   "source": [
    "np.mean(df_matriz, axis=0)"
   ]
  },
  {
   "cell_type": "code",
   "execution_count": 11,
   "metadata": {},
   "outputs": [],
   "source": [
    "# Função com implementação do algoritmo PCA\n",
    "def PCA(input):\n",
    "    \n",
    "    mean = np.mean(input, axis= 0)\n",
    "    \n",
    "    # Subtraindo a média da matriz de entrada original\n",
    "    normalised_input = np.subtract(input, mean)\n",
    "    \n",
    "    # matriz de covariância\n",
    "    cov_mat = np.cov(normalised_input, rowvar= False)\n",
    "    \n",
    "    # Localizando autovalores and autovetores\n",
    "    value, vector = np.linalg.eig(np.array(cov_mat))\n",
    "    \n",
    "    # Ordenando os autovetores de acordo com os autovalores\n",
    "    index = value.argsort()[::-1]\n",
    "    eigen_value = value[index]\n",
    "    prin_component = vector[:,index]\n",
    "    \n",
    "    # Multiplicando matriz de componente principal com a matriz de dados de entrada para obter o PCA\n",
    "    pca_output = np.dot(normalised_input, prin_component)\n",
    "\n",
    "    return pca_output, eigen_value, prin_component, cov_mat"
   ]
  },
  {
   "cell_type": "code",
   "execution_count": 12,
   "metadata": {},
   "outputs": [],
   "source": [
    "pca_out, eigenval_v1, principal_component, cov_matrix = PCA(df_matriz)"
   ]
  },
  {
   "cell_type": "code",
   "execution_count": 13,
   "metadata": {},
   "outputs": [],
   "source": [
    "# Somando as 10 primeiras variaveis \n",
    "variancia_explicada_v1 = (eigenval_v1[0] / sum(eigenval_v1)) + \\\n",
    "                         (eigenval_v1[1] / sum(eigenval_v1)) + \\\n",
    "                         (eigenval_v1[2] / sum(eigenval_v1)) + \\\n",
    "                         (eigenval_v1[3] / sum(eigenval_v1)) + \\\n",
    "                         (eigenval_v1[4] / sum(eigenval_v1)) + \\\n",
    "                         (eigenval_v1[5] / sum(eigenval_v1)) + \\\n",
    "                         (eigenval_v1[6] / sum(eigenval_v1)) + \\\n",
    "                         (eigenval_v1[7] / sum(eigenval_v1)) + \\\n",
    "                         (eigenval_v1[8] / sum(eigenval_v1)) + \\\n",
    "                         (eigenval_v1[9] / sum(eigenval_v1)) "
   ]
  },
  {
   "cell_type": "code",
   "execution_count": 14,
   "metadata": {},
   "outputs": [],
   "source": [
    "# Convertendo para valor percentual\n",
    "variancia_explicada_percentual = variancia_explicada_v1 * 100"
   ]
  },
  {
   "cell_type": "code",
   "execution_count": 15,
   "metadata": {},
   "outputs": [
    {
     "name": "stdout",
     "output_type": "stream",
     "text": [
      "Total de Variância dos Dados Explicada Por 10 Componentes Principais: (95.7835020418579+0j)\n"
     ]
    }
   ],
   "source": [
    "print(\"Total de Variância dos Dados Explicada Por 10 Componentes Principais:\", variancia_explicada_percentual)"
   ]
  },
  {
   "cell_type": "code",
   "execution_count": null,
   "metadata": {},
   "outputs": [
    {
     "data": {
      "text/plain": [
       "(3358556479843.022+0j)"
      ]
     },
     "execution_count": 16,
     "metadata": {},
     "output_type": "execute_result"
    }
   ],
   "source": [
    "# Calculando a variância total\n",
    "total_variance_v1 = sum(eigenval_v1)\n",
    "total_variance_v1"
   ]
  },
  {
   "cell_type": "code",
   "execution_count": 22,
   "metadata": {},
   "outputs": [],
   "source": [
    "# Calculando a variância explicada por cada componente principal\n",
    "variance_explained_v1 = [(i / total_variance_v1) for i in eigenval_v1]\n"
   ]
  },
  {
   "cell_type": "code",
   "execution_count": 21,
   "metadata": {},
   "outputs": [],
   "source": [
    "cumulative_variance_explained_v1 = np.cumsum(variance_explained_v1)\n"
   ]
  },
  {
   "cell_type": "code",
   "execution_count": 19,
   "metadata": {},
   "outputs": [
    {
     "data": {
      "text/plain": [
       "[(0.4006389994390442+0j),\n",
       " (0.14908971340570948+0j),\n",
       " (0.12996709872406506+0j),\n",
       " (0.09534871230146738+0j),\n",
       " (0.06440429234620802+0j),\n",
       " (0.03814704235755977+0j),\n",
       " (0.028828684990927937+0j),\n",
       " (0.022276999290681034+0j),\n",
       " (0.016360170455751766+0j),\n",
       " (0.012773307107164409+0j)]"
      ]
     },
     "execution_count": 19,
     "metadata": {},
     "output_type": "execute_result"
    }
   ],
   "source": [
    "# Exibindo a variância explicada por cada um dos 10 primeiros componentes principais\n",
    "variance_explained_v1[:10]"
   ]
  },
  {
   "cell_type": "code",
   "execution_count": 20,
   "metadata": {},
   "outputs": [
    {
     "data": {
      "text/plain": [
       "array([0.400639  +0.j, 0.54972871+0.j, 0.67969581+0.j, 0.77504452+0.j,\n",
       "       0.83944882+0.j, 0.87759586+0.j, 0.90642454+0.j, 0.92870154+0.j,\n",
       "       0.94506171+0.j, 0.95783502+0.j])"
      ]
     },
     "execution_count": 20,
     "metadata": {},
     "output_type": "execute_result"
    }
   ],
   "source": [
    "# Exibindo a variância acumulada dos 10 primeiros componentes principais\n",
    "cumulative_variance_explained_v1[:10]"
   ]
  },
  {
   "cell_type": "code",
   "execution_count": null,
   "metadata": {},
   "outputs": [],
   "source": []
  },
  {
   "cell_type": "markdown",
   "metadata": {},
   "source": [
    "# implementação com o Sklearn"
   ]
  },
  {
   "cell_type": "code",
   "execution_count": 23,
   "metadata": {},
   "outputs": [],
   "source": [
    "import sklearn\n",
    "from sklearn.decomposition import PCA"
   ]
  },
  {
   "cell_type": "code",
   "execution_count": 24,
   "metadata": {},
   "outputs": [],
   "source": [
    "# Aplicando PCA\n",
    "pca = PCA(n_components = 10)\n",
    "X_pca = pca.fit_transform(df_matriz)"
   ]
  },
  {
   "cell_type": "code",
   "execution_count": 25,
   "metadata": {},
   "outputs": [],
   "source": [
    "# Variância explicada por cada componente\n",
    "variance_explained_v3 = pca.explained_variance_"
   ]
  },
  {
   "cell_type": "code",
   "execution_count": 26,
   "metadata": {},
   "outputs": [],
   "source": [
    "# Proporção da variância explicada por cada componente\n",
    "variance_explained_v3_ratio = pca.explained_variance_ratio_"
   ]
  },
  {
   "cell_type": "code",
   "execution_count": 27,
   "metadata": {},
   "outputs": [],
   "source": [
    "# Variância explicada acumulada\n",
    "cumulative_variance_v3_ratio = np.cumsum(variance_explained_v3_ratio)"
   ]
  },
  {
   "cell_type": "code",
   "execution_count": 28,
   "metadata": {},
   "outputs": [
    {
     "name": "stdout",
     "output_type": "stream",
     "text": [
      "Proporção da variância explicada por cada componente:\n",
      "\n",
      " [0.400639   0.14908971 0.1299671  0.09534871 0.06440429 0.03814704\n",
      " 0.02882868 0.022277   0.01636017 0.01277331]\n"
     ]
    }
   ],
   "source": [
    "print(\"Proporção da variância explicada por cada componente:\\n\\n\", variance_explained_v3_ratio)"
   ]
  },
  {
   "cell_type": "code",
   "execution_count": 29,
   "metadata": {},
   "outputs": [
    {
     "name": "stdout",
     "output_type": "stream",
     "text": [
      "Variância explicada acumulada:\n",
      "\n",
      " [0.400639   0.54972871 0.67969581 0.77504452 0.83944882 0.87759586\n",
      " 0.90642454 0.92870154 0.94506171 0.95783502]\n"
     ]
    }
   ],
   "source": [
    "print(\"Variância explicada acumulada:\\n\\n\", cumulative_variance_v3_ratio)"
   ]
  },
  {
   "cell_type": "code",
   "execution_count": null,
   "metadata": {},
   "outputs": [],
   "source": []
  }
 ],
 "metadata": {
  "kernelspec": {
   "display_name": "Python 3",
   "language": "python",
   "name": "python3"
  },
  "language_info": {
   "codemirror_mode": {
    "name": "ipython",
    "version": 3
   },
   "file_extension": ".py",
   "mimetype": "text/x-python",
   "name": "python",
   "nbconvert_exporter": "python",
   "pygments_lexer": "ipython3",
   "version": "3.10.7"
  }
 },
 "nbformat": 4,
 "nbformat_minor": 2
}
